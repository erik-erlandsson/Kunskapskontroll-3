{
 "cells": [
  {
   "cell_type": "markdown",
   "id": "f5c0c5e0-54b9-4039-874a-f5504bbc1415",
   "metadata": {},
   "source": [
    "__Kunskapskontroll 3 - Analys av en datafil__"
   ]
  },
  {
   "cell_type": "code",
   "execution_count": 1,
   "id": "0ad2fec2-bcc5-4c82-b00f-62e826fcebdb",
   "metadata": {},
   "outputs": [
    {
     "name": "stdout",
     "output_type": "stream",
     "text": [
      "Available columns:\n",
      "\n",
      "Index(['longitude', 'latitude', 'housing_median_age', 'total_rooms',\n",
      "       'total_bedrooms', 'population', 'households', 'median_income',\n",
      "       'median_house_value', 'ocean_proximity'],\n",
      "      dtype='object')\n",
      "\n",
      "\n",
      "Select editing options:\n",
      "1. Remove duplicate rows\n",
      "2. Remove rows with missing values\n",
      "3. Save data\n"
     ]
    },
    {
     "name": "stdin",
     "output_type": "stream",
     "text": [
      "Enter the number of the editing option:  1\n"
     ]
    },
    {
     "name": "stdout",
     "output_type": "stream",
     "text": [
      "\n",
      "Duplicate rows:\n",
      "\n",
      "\n",
      "No duplicate rows found\n",
      "\n",
      "\n",
      "Select editing options:\n",
      "1. Remove duplicate rows\n",
      "2. Remove rows with missing values\n",
      "3. Save data\n"
     ]
    },
    {
     "name": "stdin",
     "output_type": "stream",
     "text": [
      "Enter the number of the editing option:  2\n"
     ]
    },
    {
     "name": "stdout",
     "output_type": "stream",
     "text": [
      "\n",
      "Rows with missing values:\n",
      "\n",
      "\n",
      "       longitude  latitude  housing_median_age  total_rooms  total_bedrooms  \\\n",
      "290      -122.16     37.77                47.0       1256.0             NaN   \n",
      "341      -122.17     37.75                38.0        992.0             NaN   \n",
      "538      -122.28     37.78                29.0       5154.0             NaN   \n",
      "563      -122.24     37.75                45.0        891.0             NaN   \n",
      "696      -122.10     37.69                41.0        746.0             NaN   \n",
      "...          ...       ...                 ...          ...             ...   \n",
      "20267    -119.19     34.20                18.0       3620.0             NaN   \n",
      "20268    -119.18     34.19                19.0       2393.0             NaN   \n",
      "20372    -118.88     34.17                15.0       4260.0             NaN   \n",
      "20460    -118.75     34.29                17.0       5512.0             NaN   \n",
      "20484    -118.72     34.28                17.0       3051.0             NaN   \n",
      "\n",
      "       population  households  median_income  median_house_value  \\\n",
      "290         570.0       218.0         4.3750            161900.0   \n",
      "341         732.0       259.0         1.6196             85100.0   \n",
      "538        3741.0      1273.0         2.5762            173400.0   \n",
      "563         384.0       146.0         4.9489            247100.0   \n",
      "696         387.0       161.0         3.9063            178400.0   \n",
      "...           ...         ...            ...                 ...   \n",
      "20267      3171.0       779.0         3.3409            220500.0   \n",
      "20268      1938.0       762.0         1.6953            167400.0   \n",
      "20372      1701.0       669.0         5.1033            410700.0   \n",
      "20460      2734.0       814.0         6.6073            258100.0   \n",
      "20484      1705.0       495.0         5.7376            218600.0   \n",
      "\n",
      "      ocean_proximity  \n",
      "290          NEAR BAY  \n",
      "341          NEAR BAY  \n",
      "538          NEAR BAY  \n",
      "563          NEAR BAY  \n",
      "696          NEAR BAY  \n",
      "...               ...  \n",
      "20267      NEAR OCEAN  \n",
      "20268      NEAR OCEAN  \n",
      "20372       <1H OCEAN  \n",
      "20460       <1H OCEAN  \n",
      "20484       <1H OCEAN  \n",
      "\n",
      "[207 rows x 10 columns]\n",
      "\n"
     ]
    },
    {
     "name": "stdin",
     "output_type": "stream",
     "text": [
      "Do you want to remove rows with missing values? (y/n):  3\n"
     ]
    },
    {
     "name": "stdout",
     "output_type": "stream",
     "text": [
      "\n",
      "Rows with missing values not removed\n",
      "\n",
      "\n",
      "Select editing options:\n",
      "1. Remove duplicate rows\n",
      "2. Remove rows with missing values\n",
      "3. Save data\n"
     ]
    },
    {
     "name": "stdin",
     "output_type": "stream",
     "text": [
      "Enter the number of the editing option:  1\n"
     ]
    },
    {
     "name": "stdout",
     "output_type": "stream",
     "text": [
      "\n",
      "Duplicate rows:\n",
      "\n",
      "\n",
      "No duplicate rows found\n",
      "\n",
      "\n",
      "Select editing options:\n",
      "1. Remove duplicate rows\n",
      "2. Remove rows with missing values\n",
      "3. Save data\n"
     ]
    },
    {
     "name": "stdin",
     "output_type": "stream",
     "text": [
      "Enter the number of the editing option:  2\n"
     ]
    },
    {
     "name": "stdout",
     "output_type": "stream",
     "text": [
      "\n",
      "Rows with missing values:\n",
      "\n",
      "\n",
      "       longitude  latitude  housing_median_age  total_rooms  total_bedrooms  \\\n",
      "290      -122.16     37.77                47.0       1256.0             NaN   \n",
      "341      -122.17     37.75                38.0        992.0             NaN   \n",
      "538      -122.28     37.78                29.0       5154.0             NaN   \n",
      "563      -122.24     37.75                45.0        891.0             NaN   \n",
      "696      -122.10     37.69                41.0        746.0             NaN   \n",
      "...          ...       ...                 ...          ...             ...   \n",
      "20267    -119.19     34.20                18.0       3620.0             NaN   \n",
      "20268    -119.18     34.19                19.0       2393.0             NaN   \n",
      "20372    -118.88     34.17                15.0       4260.0             NaN   \n",
      "20460    -118.75     34.29                17.0       5512.0             NaN   \n",
      "20484    -118.72     34.28                17.0       3051.0             NaN   \n",
      "\n",
      "       population  households  median_income  median_house_value  \\\n",
      "290         570.0       218.0         4.3750            161900.0   \n",
      "341         732.0       259.0         1.6196             85100.0   \n",
      "538        3741.0      1273.0         2.5762            173400.0   \n",
      "563         384.0       146.0         4.9489            247100.0   \n",
      "696         387.0       161.0         3.9063            178400.0   \n",
      "...           ...         ...            ...                 ...   \n",
      "20267      3171.0       779.0         3.3409            220500.0   \n",
      "20268      1938.0       762.0         1.6953            167400.0   \n",
      "20372      1701.0       669.0         5.1033            410700.0   \n",
      "20460      2734.0       814.0         6.6073            258100.0   \n",
      "20484      1705.0       495.0         5.7376            218600.0   \n",
      "\n",
      "      ocean_proximity  \n",
      "290          NEAR BAY  \n",
      "341          NEAR BAY  \n",
      "538          NEAR BAY  \n",
      "563          NEAR BAY  \n",
      "696          NEAR BAY  \n",
      "...               ...  \n",
      "20267      NEAR OCEAN  \n",
      "20268      NEAR OCEAN  \n",
      "20372       <1H OCEAN  \n",
      "20460       <1H OCEAN  \n",
      "20484       <1H OCEAN  \n",
      "\n",
      "[207 rows x 10 columns]\n",
      "\n"
     ]
    },
    {
     "name": "stdin",
     "output_type": "stream",
     "text": [
      "Do you want to remove rows with missing values? (y/n):  y\n"
     ]
    },
    {
     "name": "stdout",
     "output_type": "stream",
     "text": [
      "\n",
      "Rows with missing values removed\n",
      "\n",
      "\n",
      "Select editing options:\n",
      "1. Remove duplicate rows\n",
      "2. Remove rows with missing values\n",
      "3. Save data\n"
     ]
    },
    {
     "name": "stdin",
     "output_type": "stream",
     "text": [
      "Enter the number of the editing option:  3\n"
     ]
    },
    {
     "name": "stdout",
     "output_type": "stream",
     "text": [
      "\n",
      "Data saved to data_edited.csv\n",
      "\n"
     ]
    }
   ],
   "source": [
    "\"\"\" A tool to analyze and tidy up a data table\n",
    "\n",
    "This tool allows you to analyze and tidy up a data table.\n",
    "\n",
    "You can:\n",
    "- Inspect and remove duplicate rows\n",
    "- Inspect and remove rows with missing values\n",
    "- Save the edited data to a new file\n",
    "\"\"\"\n",
    "\n",
    "import pandas as pd\n",
    "\n",
    "# *** Load data ***\n",
    "df = pd.read_csv('housing.csv')\n",
    "\n",
    "# *** List available columns ***\n",
    "print(\"Available columns:\")\n",
    "print()\n",
    "print(df.columns)\n",
    "print()\n",
    "print()\n",
    "# *** Select editing options ***\n",
    "while True:\n",
    "    print(\"Select editing options:\")\n",
    "    print(\"1. Remove duplicate rows\")\n",
    "    print(\"2. Remove rows with missing values\")\n",
    "    print(\"3. Save data\")\n",
    "    edit_option = input(\"Enter the number of the editing option: \")\n",
    "# *** Remove duplicate rows ***\n",
    "    if edit_option == \"1\":\n",
    "        # *** List duplicate rows ***\n",
    "        duplicate_rows = df[df.duplicated()]\n",
    "        print()\n",
    "        print(\"Duplicate rows:\")\n",
    "        print()\n",
    "        if duplicate_rows.empty:\n",
    "            print()\n",
    "            print(\"No duplicate rows found\")\n",
    "            print()\n",
    "            print()\n",
    "            continue\n",
    "        else:\n",
    "            print(duplicate_rows)\n",
    "        do_option = input(\"Do you want to remove duplicate rows? (y/n): \")\n",
    "        if do_option == \"y\":\n",
    "            print()\n",
    "            df = df.drop_duplicates()\n",
    "            print(\"Duplicate rows removed\")\n",
    "            print()\n",
    "            print()\n",
    "        else:\n",
    "            print()\n",
    "            print(\"Duplicate rows not removed\")\n",
    "            print()\n",
    "            print()\n",
    "\n",
    "    # *** Remove rows with missing values ***\n",
    "    elif edit_option == \"2\":\n",
    "        # *** List rows with missing values ***\n",
    "        missing_values = df[df.isnull().any(axis=1)]\n",
    "        print()\n",
    "        print(\"Rows with missing values:\")\n",
    "        print()\n",
    "        if missing_values.empty:\n",
    "            print()\n",
    "            print(\"No rows with missing values found\")\n",
    "            print()\n",
    "        else:\n",
    "            print()\n",
    "            print(missing_values)\n",
    "            print()\n",
    "        do_option = input(\"Do you want to remove rows with missing values? (y/n): \")\n",
    "        if do_option == \"y\":\n",
    "            df = df.dropna()\n",
    "            print()\n",
    "            print(\"Rows with missing values removed\")\n",
    "            print()\n",
    "            print()\n",
    "        else:\n",
    "            print()\n",
    "            print(\"Rows with missing values not removed\")\n",
    "            print()\n",
    "            print()\n",
    "\n",
    "    # *** Save data ***\n",
    "    elif edit_option == \"3\":\n",
    "        break\n",
    "\n",
    "df.to_csv('data_edited.csv', index=False)\n",
    "\n",
    "\n",
    "print()\n",
    "print(\"Data saved to data_edited.csv\")\n",
    "print()"
   ]
  },
  {
   "cell_type": "code",
   "execution_count": 2,
   "id": "4e71bafd-2165-42b7-9f1c-88e7f2f141eb",
   "metadata": {},
   "outputs": [
    {
     "name": "stdin",
     "output_type": "stream",
     "text": [
      "Select original or edited data (o/e):  e\n"
     ]
    },
    {
     "data": {
      "application/vnd.jupyter.widget-view+json": {
       "model_id": "fa469827df6f4e20bdb667fbe983e4e7",
       "version_major": 2,
       "version_minor": 0
      },
      "text/plain": [
       "VBox(children=(IntSlider(value=52, description='House median mge', max=52, min=1), FloatSlider(value=0.0, desc…"
      ]
     },
     "metadata": {},
     "output_type": "display_data"
    },
    {
     "data": {
      "application/vnd.jupyter.widget-view+json": {
       "model_id": "48a6acf7ce2a4244bb624339a749d60b",
       "version_major": 2,
       "version_minor": 0
      },
      "text/plain": [
       "Output()"
      ]
     },
     "metadata": {},
     "output_type": "display_data"
    }
   ],
   "source": [
    "\"\"\" Interactive housing map\n",
    "\n",
    "This tool allows you to filter the housing data by age, income, house value, population, and proximity to the ocean.\n",
    "Interactive sliders and a drop-down selector allow you to adjust the filters and see the results immediately.\n",
    "\"\"\"\n",
    "\n",
    "import pandas as pd\n",
    "import matplotlib.pyplot as plt\n",
    "import ipywidgets as widgets\n",
    "from IPython.display import display, clear_output\n",
    "\n",
    "# *** Select original or edited data ***\n",
    "file_sel = input(\"Select original or edited data (o/e): \")\n",
    "if file_sel == \"o\":\n",
    "    df = pd.read_csv('housing.csv')\n",
    "elif file_sel == \"e\":\n",
    "    df = pd.read_csv('data_edited.csv')\n",
    "\n",
    "# *** Load data *** \n",
    "df = pd.read_csv('housing.csv')\n",
    "\n",
    "# *** Set slider limits *** \n",
    "max_age = df['housing_median_age'].max()\n",
    "max_income = df['median_income'].max()\n",
    "max_house_value = df['median_house_value'].max()\n",
    "min_house_value = df['median_house_value'].min()\n",
    "max_population = df['population'].max()\n",
    "min_population = df['population'].min()\n",
    "\n",
    "#  *** Widget setup of limits and initial values *** \n",
    "age_slider = widgets.IntSlider(value=max_age, min=1, max=max_age, step=1, description='House median mge')\n",
    "income_slider = widgets.FloatSlider(value=0.0, min=0.0, max=max_income, step=0.1, description='Income')\n",
    "value_slider = widgets.IntSlider(value=min_house_value, min=0.0, max=max_house_value, step=1000, description=' House value')\n",
    "population_slider = widgets.IntSlider(value=min_population, min=min_population, max=max_population, step=10, description='Population')\n",
    "ocean_options = ['<any>'] + sorted(df['ocean_proximity'].unique())\n",
    "proximity_dropdown = widgets.Dropdown(options=ocean_options, description='Proximity')\n",
    "\n",
    "output = widgets.Output()\n",
    "\n",
    "# *** Filter data from slider values  *** \n",
    "def filter_data(age, income, house_value, population, proximity):\n",
    "    filtered = df[\n",
    "        (df['housing_median_age'] <= age) &\n",
    "        (df['median_income'] >= income) &\n",
    "        (df['median_house_value'] >= house_value) &\n",
    "        (df['population'] >= population)\n",
    "    ]\n",
    "# *** Filter data from location selector value  *** \n",
    "    if proximity != '<any>':\n",
    "        filtered = filtered[filtered['ocean_proximity'] == proximity]\n",
    "    return filtered\n",
    "\n",
    "#  *** Plot data from slider values *** \n",
    "def update_plot(*args):\n",
    "    with output:\n",
    "        clear_output(wait=True)\n",
    "        filtered = filter_data(\n",
    "            age_slider.value,\n",
    "            income_slider.value,\n",
    "            value_slider.value,\n",
    "            population_slider.value,\n",
    "            proximity_dropdown.value\n",
    "        )\n",
    "        if filtered.empty:\n",
    "            print(\"No data matching filter criteria.\")\n",
    "            return\n",
    "        sizes = filtered['population'] / 100\n",
    "        plt.figure(figsize=(10, 6))\n",
    "        plt.scatter(\n",
    "            filtered['longitude'],\n",
    "            filtered['latitude'],\n",
    "            c=filtered['population'],\n",
    "            s=sizes,\n",
    "            cmap=plt.cm.Set1,\n",
    "            alpha=0.9\n",
    "        )\n",
    "        plt.title(\"Housing Map: Population by Location\")\n",
    "        plt.xlabel('Longitude')\n",
    "        plt.ylabel('Latitude')\n",
    "        plt.colorbar(label='Population')\n",
    "        plt.show()\n",
    "\n",
    "# *** Create widgets observer - \"event\" hooks ***\n",
    "age_slider.observe(update_plot, names='value')\n",
    "income_slider.observe(update_plot, names='value')\n",
    "value_slider.observe(update_plot, names='value')\n",
    "population_slider.observe(update_plot, names='value')\n",
    "proximity_dropdown.observe(update_plot, names='value')\n",
    "\n",
    "# *** Display UI - Plot and filters*\n",
    "ui = widgets.VBox([age_slider, income_slider, value_slider, population_slider, proximity_dropdown])\n",
    "display(ui, output)\n",
    "\n",
    "# *** Initial plot ***\n",
    "update_plot() "
   ]
  },
  {
   "cell_type": "markdown",
   "id": "42762cc1-3f22-4edd-ab78-c2123f6ce773",
   "metadata": {},
   "source": [
    "__Självutvärdering:__\n",
    "1. Vad har varit utmanande?\n",
    "   - Att hitta ett kreativt angreppssätt, jag snurrade ett tag på kolumnerna med rum och sovrum men fann att de var ganska ointressanta.\n",
    "     Jag kom på att jag inte ville göra ett otal diagram, istället ville jag skapa en interaktiv widget med filterreglage, då blev bilden klar.\n",
    "     Koden gav sig själv när målet var tydligt.\n",
    "   - Att försöka hitta ett sätt att pesentera interaktivt innehåll i Jupyter var ganska utmanande, ryktesvägen sägs det att det kan gå i Jupyter Labs,\n",
    "     men jag kom inte fram där heller. Möjligen skulle \"plotly\"-biblioteket fungera, men det kändes out of scope till denna uppgift. Sedan hittade jag \"ipywidgets\" som faktiskt löste problemet.\n",
    "2. Jag tycker själv att dessa två script är värda en fullpoängare, de svarar på frågan, med en viss finess. Men jag är medveten om att jag är en\n",
    "   \"Good enough\" programmerare så det finns naturigtvis punkter i dessa som man kan kritisera.\n",
    "3. Kursens bredd hittills är bra, vissa delar är repetition för mig, men matten och matriser som ekvationer är helt nytt för mig."
   ]
  },
  {
   "cell_type": "code",
   "execution_count": null,
   "id": "02640365-2d15-4806-8f49-ae6ef8c6c04e",
   "metadata": {},
   "outputs": [],
   "source": []
  }
 ],
 "metadata": {
  "kernelspec": {
   "display_name": "Python [conda env:base] *",
   "language": "python",
   "name": "conda-base-py"
  },
  "language_info": {
   "codemirror_mode": {
    "name": "ipython",
    "version": 3
   },
   "file_extension": ".py",
   "mimetype": "text/x-python",
   "name": "python",
   "nbconvert_exporter": "python",
   "pygments_lexer": "ipython3",
   "version": "3.12.3"
  }
 },
 "nbformat": 4,
 "nbformat_minor": 5
}
